{
 "cells": [
  {
   "cell_type": "markdown",
   "metadata": {},
   "source": [
    "### Muhammad Satrio Pinoto Negoro\n",
    "\n",
    "**Linkedin:** https://www.linkedin.com/in/satriopino/"
   ]
  },
  {
   "cell_type": "markdown",
   "metadata": {},
   "source": [
    "# Webscrapping Movie Ratings from IMDb using BeautifulSoup\n",
    "\n",
    "Web scraping, also known as web harvesting or web data extraction, is the process of automatically extracting data from websites. It involves fetching a web page and extracting data from it. The data can be parsed, searched, reformatted, and copied into a spreadsheet or loaded into a database. Web scraping can be done manually, but in most cases, automated tools are preferred as they can be less costly and work at a faster rate. Web scraping is used for various purposes, including lead  generation, price monitoring, market research, and content aggregation. However, some websites use methods to prevent web scraping, such as detecting and disallowing bots from crawling their pages. In response, there are web scraping systems that rely on using techniques in DOM parsing, computer vision, and natural language processing to simulate human browsing to enable gathering web page content for offline parsing.\n",
    "\n",
    "## Dependencies\n",
    "\n",
    "Actually to follow this module you only need to install beautifulsoup4 with `pip install beautifulsoup4` and you are good to go. But here some libraries that needed to be installed first that I use at bis module : \n",
    "\n",
    "- beautifulSoup4\n",
    "- pandas\n",
    "- matplotlibs\n",
    "\n",
    "## Background\n",
    "\n",
    "At this project I try to scrap Movie Name, Ratings, Duration, Votes, and Sinopsis Data **IMDb** data center website. IMBD, an acronym for Internet Movie Database, is an online database of information related to films, television series, podcasts, home videos, video games, and streaming content online. It includes information such as cast, production crew, personal biographies, plot summaries, trivia, ratings, and fan and critical reviews. IMDb was first published in 1990 by Col Needham, a computer programmer, and has since grown into a comprehensive resource for movie and TV information. I will try to scrap this sites for educational purpose only.\n",
    "\n",
    "A lot of you might ask why we need to scrap this data from the sites. I want to make a report and gain some insight from that data and maybe can be useful for others. To do that I need to have the data, and scrapping is a good way to collect the data I don't have from the public.\n",
    "\n",
    "I will scrap 7 points from this sites. That is Title, Year, Duration, Rating Category, Ratings, and Total Votes. \n",
    "\n",
    "## What is BeautifulSoup\n",
    "\n",
    "Beautiful Soup is a Python library for pulling data out of HTML and XML files. Beautiful Soup 3 only works on Python 2.x, but Beautiful Soup 4 also works on Python 3.x. Beautiful Soup 4 is faster, has more features, and works with third-party parsers\n",
    "like lxml and html5lib.\n",
    "\n",
    "Since beautifulsoup used to pull the data out of a HTML, so first I need to pull out the html first. How I do it? I will use default library `request`. \n",
    "\n",
    "So all this code is doing is sending a GET request to spesific address I give. This is the same type of request your browser sent to view this page, but the only difference is that Requests can't actually render the HTML, so instead you will just get the raw HTML and the other response information.\n",
    "\n",
    "I'm using the .get() function here, but Requests allows you to use other functions like .post() and .put() to send those requests as well. At this case we will going to the IMDb website, you can click [here](https://www.imdb.com/chart/top/?ref_=nv_mv_250) to follow what exactly that link goes to. \n",
    "\n",
    "## Requesting the Data and Creating a BeautifulSoup\n",
    "\n",
    "Let's begin with requesting the web from the site with `get` method."
   ]
  },
  {
   "cell_type": "markdown",
   "metadata": {},
   "source": [
    "## Getting the HTML from the Webpage"
   ]
  },
  {
   "cell_type": "code",
   "execution_count": 36,
   "metadata": {},
   "outputs": [],
   "source": [
    "url = 'https://www.imdb.com/chart/top/?ref_=nv_mv_250'"
   ]
  },
  {
   "cell_type": "code",
   "execution_count": 37,
   "metadata": {},
   "outputs": [],
   "source": [
    "import requests"
   ]
  },
  {
   "cell_type": "code",
   "execution_count": 38,
   "metadata": {
    "ExecuteTime": {
     "end_time": "2020-01-13T05:12:23.275508Z",
     "start_time": "2020-01-13T05:12:20.009898Z"
    }
   },
   "outputs": [],
   "source": [
    "headers = {\n",
    "    'User-Agent':'Mozilla/5.0 (Windows NT 10.0; Win64; x64) AppleWebKit/537.36 (KHTML, like Gecko) Chrome/119.0.0.0 Safari/537.36'\n",
    "}\n",
    "url_get = requests.get(url, headers=headers)"
   ]
  },
  {
   "cell_type": "markdown",
   "metadata": {},
   "source": [
    "To visualize what exactly you get from the `request.get`, we can use .content so ee what we exactly get, in here i slice it so it won't make our screen full of the html we get from the page. You can delete the slicing if you want to see what we fully get."
   ]
  },
  {
   "cell_type": "code",
   "execution_count": 39,
   "metadata": {
    "ExecuteTime": {
     "end_time": "2020-01-13T05:12:23.290648Z",
     "start_time": "2020-01-13T05:12:23.277650Z"
    }
   },
   "outputs": [
    {
     "data": {
      "text/plain": [
       "b'<!DOCTYPE html><html lang=\"en-US\" xmlns:og=\"http://opengraphprotocol.org/schema/\" xmlns:fb=\"http://www.facebook.com/2008/fbml\"><head><meta charSet=\"utf-8\"/><meta name=\"viewport\" content=\"width=device-width\"/><script>if(typeof uet === \\'function\\'){ uet(\\'bb\\', \\'LoadTitle\\', {wb: 1}); }</script><script>window.addEventListener(\\'load\\', (event) => {\\n        if (typeof window.csa !== \\'undefined\\' && typeof window.csa === \\'function\\') {\\n            var csaLatencyPlugin = window.csa(\\'Content\\', {\\n             '"
      ]
     },
     "execution_count": 39,
     "metadata": {},
     "output_type": "execute_result"
    }
   ],
   "source": [
    "url_get.content[:500]"
   ]
  },
  {
   "cell_type": "markdown",
   "metadata": {},
   "source": [
    "As we can see we get a very unstructured and complex html, which actually contains the codes needed to show the webpages on your web browser. But we as human still confused what and where we can use that piece of code, so here where we use the beautifulsoup. Beautiful soup class will result a beautifulsoup object. Beautiful Soup transforms a complex HTML document into a complex tree of Python objects. But we’ll only ever have to deal with about four kinds of objects: `Tag`, `NavigableString`, `BeautifulSoup`, and `Comment`. But at this project we will only use `BeautifulSoup`.\n",
    "\n",
    "Let's make Beautiful soup object and feel free to explore the object here."
   ]
  },
  {
   "cell_type": "code",
   "execution_count": 40,
   "metadata": {
    "ExecuteTime": {
     "end_time": "2020-01-13T05:12:23.808122Z",
     "start_time": "2020-01-13T05:12:23.292610Z"
    }
   },
   "outputs": [
    {
     "name": "stdout",
     "output_type": "stream",
     "text": [
      "<class 'bs4.BeautifulSoup'>\n"
     ]
    }
   ],
   "source": [
    "from bs4 import BeautifulSoup \n",
    "\n",
    "soup = BeautifulSoup(url_get.content,\"html.parser\")\n",
    "print(type(soup))"
   ]
  },
  {
   "cell_type": "markdown",
   "metadata": {},
   "source": [
    "Let's see how our beautifulsoup looks like. As you can see, the content is the same with our get_url object but it's tidier. Also beautifulsoup give us method to make it even more prettier, for tidyness purpouse we slice to only see first 500 character."
   ]
  },
  {
   "cell_type": "code",
   "execution_count": 41,
   "metadata": {},
   "outputs": [
    {
     "name": "stdout",
     "output_type": "stream",
     "text": [
      "<!DOCTYPE html>\n",
      "<html lang=\"en-US\" xmlns:fb=\"http://www.facebook.com/2008/fbml\" xmlns:og=\"http://opengraphprotocol.org/schema/\">\n",
      " <head>\n",
      "  <meta charset=\"utf-8\"/>\n",
      "  <meta content=\"width=device-width\" name=\"viewport\"/>\n",
      "  <script>\n",
      "   if(typeof uet === 'function'){ uet('bb', 'LoadTitle', {wb: 1}); }\n",
      "  </script>\n",
      "  <script>\n",
      "   window.addEventListener('load', (event) => {\n",
      "        if (typeof window.csa !== 'undefined' && typeof window.csa === 'function') {\n",
      "            var csaLatencyPlugin = window.csa(\n"
     ]
    }
   ],
   "source": [
    "print(soup.prettify()[:500])"
   ]
  },
  {
   "cell_type": "markdown",
   "metadata": {},
   "source": [
    "### Getting right key to extract right information\n",
    "\n",
    "Now we already have a tidier html, now we should search the lines that we want to use. Let's back to our web page first.\n",
    "\n",
    "<img src=\"asset/webpusatdatakontan.png\">\n",
    "\n",
    "The information that we need are the Date, Inflation value MoM, and Inflation value YoY which contain in the table. To know which part of the code refer to that table, we can just move our cusor there, right click, and inspect element. Then we will see something like this.\n",
    "\n",
    "<img src=\"asset/tableinflation.png\">\n",
    "\n",
    "From inspect element we know that we need to find the line table with class `baris-scroll`. We can use the find method at our beautifusoup object. Let's also call our object to see what we get."
   ]
  },
  {
   "cell_type": "markdown",
   "metadata": {},
   "source": [
    "## Finding the right key to scrap the data & Extracting the right information"
   ]
  },
  {
   "cell_type": "markdown",
   "metadata": {},
   "source": [
    "Find the key and put the key into the `.find()` Put all the exploring the right key at this cell. (please change this markdown with your explanation)"
   ]
  },
  {
   "cell_type": "markdown",
   "metadata": {},
   "source": [
    "**1. Find Title**"
   ]
  },
  {
   "cell_type": "code",
   "execution_count": 136,
   "metadata": {
    "ExecuteTime": {
     "end_time": "2020-01-13T05:12:23.878904Z",
     "start_time": "2020-01-13T05:12:23.854974Z"
    }
   },
   "outputs": [
    {
     "data": {
      "text/plain": [
       "'Drishyam'"
      ]
     },
     "execution_count": 136,
     "metadata": {},
     "output_type": "execute_result"
    }
   ],
   "source": [
    "title = soup.find_all(\"h3\", attrs={'class':'ipc-title__text'})[250].text\n",
    "title.split('. ')[1]"
   ]
  },
  {
   "cell_type": "markdown",
   "metadata": {},
   "source": [
    "**2. Find Year, Duration, Rating Category**"
   ]
  },
  {
   "cell_type": "code",
   "execution_count": 137,
   "metadata": {},
   "outputs": [
    {
     "data": {
      "text/plain": [
       "<span class=\"sc-479faa3c-8 bNrEFi cli-title-metadata-item\">13+</span>"
      ]
     },
     "execution_count": 137,
     "metadata": {},
     "output_type": "execute_result"
    }
   ],
   "source": [
    "soup.find_all(\"span\", attrs={'class':'sc-479faa3c-8 bNrEFi cli-title-metadata-item'})[749]"
   ]
  },
  {
   "cell_type": "code",
   "execution_count": null,
   "metadata": {},
   "outputs": [],
   "source": []
  },
  {
   "cell_type": "markdown",
   "metadata": {},
   "source": [
    "**3. Find Ratings & Total Votes**"
   ]
  },
  {
   "cell_type": "code",
   "execution_count": 138,
   "metadata": {},
   "outputs": [
    {
     "data": {
      "text/plain": [
       "'9.2\\xa0(2M)'"
      ]
     },
     "execution_count": 138,
     "metadata": {},
     "output_type": "execute_result"
    }
   ],
   "source": [
    "soup.find_all(\"span\", attrs={'class':'ipc-rating-star ipc-rating-star--base ipc-rating-star--imdb ratingGroup--imdb-rating'})[1].text"
   ]
  },
  {
   "cell_type": "code",
   "execution_count": 140,
   "metadata": {},
   "outputs": [
    {
     "data": {
      "text/plain": [
       "'8.2\\xa092K'"
      ]
     },
     "execution_count": 140,
     "metadata": {},
     "output_type": "execute_result"
    }
   ],
   "source": [
    "temp = soup.find_all(\"span\", attrs={'class':'ipc-rating-star ipc-rating-star--base ipc-rating-star--imdb ratingGroup--imdb-rating'})[249].text\n",
    "temp = temp.replace('(', '')\n",
    "temp = temp.replace(')','')\n",
    "temp"
   ]
  },
  {
   "cell_type": "code",
   "execution_count": 141,
   "metadata": {},
   "outputs": [
    {
     "data": {
      "text/plain": [
       "'8.2'"
      ]
     },
     "execution_count": 141,
     "metadata": {},
     "output_type": "execute_result"
    }
   ],
   "source": [
    "temp.split('\\xa0')[0]"
   ]
  },
  {
   "cell_type": "code",
   "execution_count": 142,
   "metadata": {},
   "outputs": [
    {
     "data": {
      "text/plain": [
       "'92K'"
      ]
     },
     "execution_count": 142,
     "metadata": {},
     "output_type": "execute_result"
    }
   ],
   "source": [
    "temp.split('\\xa0')[1]"
   ]
  },
  {
   "cell_type": "markdown",
   "metadata": {},
   "source": [
    "As you can see get already get the necessary key to extract all needed data. To get the only text information you can add `.text`. Remember you need to only get one information before you use `.text` otherwise it will return error."
   ]
  },
  {
   "cell_type": "markdown",
   "metadata": {},
   "source": [
    "### Extracting the Information\n",
    "\n",
    "Now all the `beautiful soup` part is over. All left to do is doing some programming to extract all the data automaticly, you can do this manualy at this part but if your data too long I advice you use loop. I'll show you how to make looping for extracting the data, but before that let's check how long is our data to help our looping process. Since `find_all` will always return data in format list, we will use `len()` to check how long is our list."
   ]
  },
  {
   "cell_type": "markdown",
   "metadata": {},
   "source": [
    "Finding row length of Date."
   ]
  },
  {
   "cell_type": "code",
   "execution_count": 62,
   "metadata": {},
   "outputs": [
    {
     "data": {
      "text/plain": [
       "263"
      ]
     },
     "execution_count": 62,
     "metadata": {},
     "output_type": "execute_result"
    }
   ],
   "source": [
    "title_row = soup.find_all(\"h3\", attrs={'class':'ipc-title__text'})\n",
    "len(title_row)"
   ]
  },
  {
   "cell_type": "markdown",
   "metadata": {},
   "source": [
    "**BUT the actual Title Data only exist in index list [1:251]**"
   ]
  },
  {
   "cell_type": "code",
   "execution_count": 68,
   "metadata": {},
   "outputs": [
    {
     "data": {
      "text/plain": [
       "750"
      ]
     },
     "execution_count": 68,
     "metadata": {},
     "output_type": "execute_result"
    }
   ],
   "source": [
    "second_info = soup.find_all(\"span\", attrs={'class':'sc-479faa3c-8 bNrEFi cli-title-metadata-item'})\n",
    "len(second_info)"
   ]
  },
  {
   "cell_type": "code",
   "execution_count": 69,
   "metadata": {},
   "outputs": [
    {
     "data": {
      "text/plain": [
       "250"
      ]
     },
     "execution_count": 69,
     "metadata": {},
     "output_type": "execute_result"
    }
   ],
   "source": [
    "third_info = soup.find_all(\"span\", attrs={'class':'ipc-rating-star ipc-rating-star--base ipc-rating-star--imdb ratingGroup--imdb-rating'})\n",
    "len(third_info)"
   ]
  },
  {
   "cell_type": "markdown",
   "metadata": {},
   "source": [
    "Now we know the length of our data, now here what we will do for the looping process. "
   ]
  },
  {
   "cell_type": "code",
   "execution_count": 143,
   "metadata": {},
   "outputs": [],
   "source": [
    "Title = []\n",
    "Year = []\n",
    "Duration = []\n",
    "Rating_Category = []\n",
    "Ratings = []\n",
    "Total_Votes = []"
   ]
  },
  {
   "cell_type": "code",
   "execution_count": 144,
   "metadata": {},
   "outputs": [],
   "source": [
    "for i in range(1,251):\n",
    "    judul = soup.find_all(\"h3\", attrs={'class':'ipc-title__text'})[i].text\n",
    "    judul = judul.split('. ')[1]\n",
    "    \n",
    "    Title.append(judul)"
   ]
  },
  {
   "cell_type": "code",
   "execution_count": 145,
   "metadata": {},
   "outputs": [],
   "source": [
    "n = 0\n",
    "while n < 750:\n",
    "    tahun = soup.find_all(\"span\", attrs={'class':'sc-479faa3c-8 bNrEFi cli-title-metadata-item'})[n].text\n",
    "    n+=1\n",
    "    \n",
    "    durasi = soup.find_all(\"span\", attrs={'class':'sc-479faa3c-8 bNrEFi cli-title-metadata-item'})[n].text\n",
    "    n+=1\n",
    "    \n",
    "    ratcat = soup.find_all(\"span\", attrs={'class':'sc-479faa3c-8 bNrEFi cli-title-metadata-item'})[n].text\n",
    "    n+=1\n",
    "    \n",
    "    Year.append(tahun)\n",
    "    Duration.append(durasi)\n",
    "    Rating_Category.append(ratcat)"
   ]
  },
  {
   "cell_type": "code",
   "execution_count": 146,
   "metadata": {},
   "outputs": [],
   "source": [
    "for i in range(0,250):\n",
    "    base = soup.find_all(\"span\", attrs={'class':'ipc-rating-star ipc-rating-star--base ipc-rating-star--imdb ratingGroup--imdb-rating'})[i].text\n",
    "    base = base.replace('(', '')\n",
    "    base = base.replace(')','')\n",
    "    rating = base.split('\\xa0')[0]\n",
    "    total_votes = base.split('\\xa0')[1]\n",
    "    \n",
    "    Ratings.append(rating)\n",
    "    Total_Votes.append(total_votes)"
   ]
  },
  {
   "cell_type": "markdown",
   "metadata": {},
   "source": [
    "Then after we fix our list a bit, as usual we will input it to pandas' dataframe."
   ]
  },
  {
   "cell_type": "markdown",
   "metadata": {},
   "source": [
    "## Creating data frame & Data wrangling"
   ]
  },
  {
   "cell_type": "markdown",
   "metadata": {},
   "source": [
    "Put the array into dataframe"
   ]
  },
  {
   "cell_type": "code",
   "execution_count": 147,
   "metadata": {},
   "outputs": [],
   "source": [
    "data = { \n",
    "    'Title': Title,\n",
    "    'Year': Year,\n",
    "    'Duration': Duration,\n",
    "    'Rating_Category': Rating_Category,\n",
    "    'Ratings': Ratings,\n",
    "    'Total_Votes': Total_Votes\n",
    "}"
   ]
  },
  {
   "cell_type": "code",
   "execution_count": 179,
   "metadata": {
    "ExecuteTime": {
     "end_time": "2020-01-13T05:12:41.517372Z",
     "start_time": "2020-01-13T05:12:29.130015Z"
    }
   },
   "outputs": [
    {
     "data": {
      "text/html": [
       "<div>\n",
       "<style scoped>\n",
       "    .dataframe tbody tr th:only-of-type {\n",
       "        vertical-align: middle;\n",
       "    }\n",
       "\n",
       "    .dataframe tbody tr th {\n",
       "        vertical-align: top;\n",
       "    }\n",
       "\n",
       "    .dataframe thead th {\n",
       "        text-align: right;\n",
       "    }\n",
       "</style>\n",
       "<table border=\"1\" class=\"dataframe\">\n",
       "  <thead>\n",
       "    <tr style=\"text-align: right;\">\n",
       "      <th></th>\n",
       "      <th>Title</th>\n",
       "      <th>Year</th>\n",
       "      <th>Duration</th>\n",
       "      <th>Rating_Category</th>\n",
       "      <th>Ratings</th>\n",
       "      <th>Total_Votes</th>\n",
       "    </tr>\n",
       "  </thead>\n",
       "  <tbody>\n",
       "    <tr>\n",
       "      <th>0</th>\n",
       "      <td>The Shawshank Redemption</td>\n",
       "      <td>1994</td>\n",
       "      <td>2h 22m</td>\n",
       "      <td>18+</td>\n",
       "      <td>9.3</td>\n",
       "      <td>2.8M</td>\n",
       "    </tr>\n",
       "    <tr>\n",
       "      <th>1</th>\n",
       "      <td>The Godfather</td>\n",
       "      <td>1972</td>\n",
       "      <td>2h 55m</td>\n",
       "      <td>18+</td>\n",
       "      <td>9.2</td>\n",
       "      <td>2M</td>\n",
       "    </tr>\n",
       "    <tr>\n",
       "      <th>2</th>\n",
       "      <td>The Dark Knight</td>\n",
       "      <td>2008</td>\n",
       "      <td>2h 32m</td>\n",
       "      <td>R</td>\n",
       "      <td>9.0</td>\n",
       "      <td>2.8M</td>\n",
       "    </tr>\n",
       "    <tr>\n",
       "      <th>3</th>\n",
       "      <td>The Godfather: Part II</td>\n",
       "      <td>1974</td>\n",
       "      <td>3h 22m</td>\n",
       "      <td>18+</td>\n",
       "      <td>9.0</td>\n",
       "      <td>1.3M</td>\n",
       "    </tr>\n",
       "    <tr>\n",
       "      <th>4</th>\n",
       "      <td>12 Angry Men</td>\n",
       "      <td>1957</td>\n",
       "      <td>1h 36m</td>\n",
       "      <td>SU</td>\n",
       "      <td>9.0</td>\n",
       "      <td>841K</td>\n",
       "    </tr>\n",
       "    <tr>\n",
       "      <th>...</th>\n",
       "      <td>...</td>\n",
       "      <td>...</td>\n",
       "      <td>...</td>\n",
       "      <td>...</td>\n",
       "      <td>...</td>\n",
       "      <td>...</td>\n",
       "    </tr>\n",
       "    <tr>\n",
       "      <th>245</th>\n",
       "      <td>Les quatre cents coups</td>\n",
       "      <td>1959</td>\n",
       "      <td>1h 39m</td>\n",
       "      <td>Not Rated</td>\n",
       "      <td>8.1</td>\n",
       "      <td>125K</td>\n",
       "    </tr>\n",
       "    <tr>\n",
       "      <th>246</th>\n",
       "      <td>Aladdin</td>\n",
       "      <td>1992</td>\n",
       "      <td>1h 30m</td>\n",
       "      <td>G</td>\n",
       "      <td>8.0</td>\n",
       "      <td>453K</td>\n",
       "    </tr>\n",
       "    <tr>\n",
       "      <th>247</th>\n",
       "      <td>Persona</td>\n",
       "      <td>1966</td>\n",
       "      <td>1h 25m</td>\n",
       "      <td>Not Rated</td>\n",
       "      <td>8.1</td>\n",
       "      <td>128K</td>\n",
       "    </tr>\n",
       "    <tr>\n",
       "      <th>248</th>\n",
       "      <td>Dances with Wolves</td>\n",
       "      <td>1990</td>\n",
       "      <td>3h 1m</td>\n",
       "      <td>PG-13</td>\n",
       "      <td>8.0</td>\n",
       "      <td>284K</td>\n",
       "    </tr>\n",
       "    <tr>\n",
       "      <th>249</th>\n",
       "      <td>Drishyam</td>\n",
       "      <td>2015</td>\n",
       "      <td>2h 43m</td>\n",
       "      <td>13+</td>\n",
       "      <td>8.2</td>\n",
       "      <td>92K</td>\n",
       "    </tr>\n",
       "  </tbody>\n",
       "</table>\n",
       "<p>250 rows × 6 columns</p>\n",
       "</div>"
      ],
      "text/plain": [
       "                        Title  Year Duration Rating_Category Ratings  \\\n",
       "0    The Shawshank Redemption  1994   2h 22m             18+     9.3   \n",
       "1               The Godfather  1972   2h 55m             18+     9.2   \n",
       "2             The Dark Knight  2008   2h 32m               R     9.0   \n",
       "3      The Godfather: Part II  1974   3h 22m             18+     9.0   \n",
       "4                12 Angry Men  1957   1h 36m              SU     9.0   \n",
       "..                        ...   ...      ...             ...     ...   \n",
       "245    Les quatre cents coups  1959   1h 39m       Not Rated     8.1   \n",
       "246                   Aladdin  1992   1h 30m               G     8.0   \n",
       "247                   Persona  1966   1h 25m       Not Rated     8.1   \n",
       "248        Dances with Wolves  1990    3h 1m           PG-13     8.0   \n",
       "249                  Drishyam  2015   2h 43m             13+     8.2   \n",
       "\n",
       "    Total_Votes  \n",
       "0          2.8M  \n",
       "1            2M  \n",
       "2          2.8M  \n",
       "3          1.3M  \n",
       "4          841K  \n",
       "..          ...  \n",
       "245        125K  \n",
       "246        453K  \n",
       "247        128K  \n",
       "248        284K  \n",
       "249         92K  \n",
       "\n",
       "[250 rows x 6 columns]"
      ]
     },
     "execution_count": 179,
     "metadata": {},
     "output_type": "execute_result"
    }
   ],
   "source": [
    "import pandas as pd\n",
    "\n",
    "df = pd.DataFrame(data)\n",
    "df"
   ]
  },
  {
   "cell_type": "markdown",
   "metadata": {},
   "source": [
    "Let's check our dataframe data types to see if our data is useable. "
   ]
  },
  {
   "cell_type": "code",
   "execution_count": 180,
   "metadata": {
    "ExecuteTime": {
     "end_time": "2020-01-13T05:12:59.165559Z",
     "start_time": "2020-01-13T05:12:58.910012Z"
    }
   },
   "outputs": [
    {
     "name": "stdout",
     "output_type": "stream",
     "text": [
      "<class 'pandas.core.frame.DataFrame'>\n",
      "RangeIndex: 250 entries, 0 to 249\n",
      "Data columns (total 6 columns):\n",
      " #   Column           Non-Null Count  Dtype \n",
      "---  ------           --------------  ----- \n",
      " 0   Title            250 non-null    object\n",
      " 1   Year             250 non-null    object\n",
      " 2   Duration         250 non-null    object\n",
      " 3   Rating_Category  250 non-null    object\n",
      " 4   Ratings          250 non-null    object\n",
      " 5   Total_Votes      250 non-null    object\n",
      "dtypes: object(6)\n",
      "memory usage: 11.8+ KB\n"
     ]
    }
   ],
   "source": [
    "df.info()"
   ]
  },
  {
   "cell_type": "markdown",
   "metadata": {},
   "source": [
    "Usual stuff, we can clean the data or save it to csv let's do a bit cleaning so we can do a bit of visualisation. We will change the inflation to float datatype, but before we can do that we need to change the \",\" to \".\" first. To do this we can use the help of `str.replace()`. Then lastly let's fix our period data type."
   ]
  },
  {
   "cell_type": "code",
   "execution_count": 181,
   "metadata": {},
   "outputs": [],
   "source": [
    "def convert_duration(duration_str):\n",
    "    hours, minutes = 0, 0\n",
    "    if 'h' in duration_str:\n",
    "        hours = float(duration_str.split('h')[0])\n",
    "    if 'm' in duration_str:\n",
    "        minutes = float(duration_str.split('m')[0].split()[-1])\n",
    "    return hours * 60 + minutes\n",
    "\n",
    "df['Duration'] = df['Duration'].apply(convert_duration)"
   ]
  },
  {
   "cell_type": "code",
   "execution_count": 182,
   "metadata": {},
   "outputs": [],
   "source": [
    "def convert_total_votes(votes_str):\n",
    "    multiplier = 1\n",
    "    if votes_str[-1] == 'K':\n",
    "        multiplier = 1000\n",
    "    elif votes_str[-1] == 'M':\n",
    "        multiplier = 1e6\n",
    "    return int(float(votes_str[:-1]) * multiplier)\n",
    "\n",
    "df['Total_Votes'] = df['Total_Votes'].apply(convert_total_votes)"
   ]
  },
  {
   "cell_type": "code",
   "execution_count": 195,
   "metadata": {},
   "outputs": [],
   "source": [
    "df[['Duration', 'Ratings', 'Total_Votes']] = df[['Duration', 'Ratings', 'Total_Votes']].astype('float')\n",
    "df['Rating_Category'] = df['Rating_Category'].astype('category')"
   ]
  },
  {
   "cell_type": "code",
   "execution_count": 202,
   "metadata": {},
   "outputs": [
    {
     "data": {
      "text/plain": [
       "[22]"
      ]
     },
     "execution_count": 202,
     "metadata": {},
     "output_type": "execute_result"
    }
   ],
   "source": [
    "a = [df['Rating_Category'].nunique()]\n",
    "a"
   ]
  },
  {
   "cell_type": "code",
   "execution_count": 196,
   "metadata": {},
   "outputs": [
    {
     "name": "stdout",
     "output_type": "stream",
     "text": [
      "<class 'pandas.core.frame.DataFrame'>\n",
      "RangeIndex: 250 entries, 0 to 249\n",
      "Data columns (total 6 columns):\n",
      " #   Column           Non-Null Count  Dtype   \n",
      "---  ------           --------------  -----   \n",
      " 0   Title            250 non-null    object  \n",
      " 1   Year             250 non-null    object  \n",
      " 2   Duration         250 non-null    float64 \n",
      " 3   Rating_Category  250 non-null    category\n",
      " 4   Ratings          250 non-null    float64 \n",
      " 5   Total_Votes      250 non-null    float64 \n",
      "dtypes: category(1), float64(3), object(2)\n",
      "memory usage: 10.8+ KB\n"
     ]
    }
   ],
   "source": [
    "df.info()"
   ]
  },
  {
   "cell_type": "markdown",
   "metadata": {},
   "source": [
    "The results of the data after cleaning the data."
   ]
  },
  {
   "cell_type": "code",
   "execution_count": 203,
   "metadata": {},
   "outputs": [
    {
     "data": {
      "text/html": [
       "<div>\n",
       "<style scoped>\n",
       "    .dataframe tbody tr th:only-of-type {\n",
       "        vertical-align: middle;\n",
       "    }\n",
       "\n",
       "    .dataframe tbody tr th {\n",
       "        vertical-align: top;\n",
       "    }\n",
       "\n",
       "    .dataframe thead th {\n",
       "        text-align: right;\n",
       "    }\n",
       "</style>\n",
       "<table border=\"1\" class=\"dataframe\">\n",
       "  <thead>\n",
       "    <tr style=\"text-align: right;\">\n",
       "      <th></th>\n",
       "      <th>Title</th>\n",
       "      <th>Year</th>\n",
       "      <th>Duration</th>\n",
       "      <th>Rating_Category</th>\n",
       "      <th>Ratings</th>\n",
       "      <th>Total_Votes</th>\n",
       "    </tr>\n",
       "  </thead>\n",
       "  <tbody>\n",
       "    <tr>\n",
       "      <th>0</th>\n",
       "      <td>The Shawshank Redemption</td>\n",
       "      <td>1994</td>\n",
       "      <td>142.0</td>\n",
       "      <td>18+</td>\n",
       "      <td>9.3</td>\n",
       "      <td>2800000.0</td>\n",
       "    </tr>\n",
       "    <tr>\n",
       "      <th>1</th>\n",
       "      <td>The Godfather</td>\n",
       "      <td>1972</td>\n",
       "      <td>175.0</td>\n",
       "      <td>18+</td>\n",
       "      <td>9.2</td>\n",
       "      <td>2000000.0</td>\n",
       "    </tr>\n",
       "    <tr>\n",
       "      <th>2</th>\n",
       "      <td>The Dark Knight</td>\n",
       "      <td>2008</td>\n",
       "      <td>152.0</td>\n",
       "      <td>R</td>\n",
       "      <td>9.0</td>\n",
       "      <td>2800000.0</td>\n",
       "    </tr>\n",
       "    <tr>\n",
       "      <th>3</th>\n",
       "      <td>The Godfather: Part II</td>\n",
       "      <td>1974</td>\n",
       "      <td>202.0</td>\n",
       "      <td>18+</td>\n",
       "      <td>9.0</td>\n",
       "      <td>1300000.0</td>\n",
       "    </tr>\n",
       "    <tr>\n",
       "      <th>4</th>\n",
       "      <td>12 Angry Men</td>\n",
       "      <td>1957</td>\n",
       "      <td>96.0</td>\n",
       "      <td>SU</td>\n",
       "      <td>9.0</td>\n",
       "      <td>841000.0</td>\n",
       "    </tr>\n",
       "    <tr>\n",
       "      <th>5</th>\n",
       "      <td>Schindler's List</td>\n",
       "      <td>1993</td>\n",
       "      <td>195.0</td>\n",
       "      <td>R</td>\n",
       "      <td>9.0</td>\n",
       "      <td>1400000.0</td>\n",
       "    </tr>\n",
       "    <tr>\n",
       "      <th>6</th>\n",
       "      <td>The Lord of the Rings: The Return of the King</td>\n",
       "      <td>2003</td>\n",
       "      <td>201.0</td>\n",
       "      <td>A</td>\n",
       "      <td>9.0</td>\n",
       "      <td>1900000.0</td>\n",
       "    </tr>\n",
       "    <tr>\n",
       "      <th>7</th>\n",
       "      <td>Pulp Fiction</td>\n",
       "      <td>1994</td>\n",
       "      <td>154.0</td>\n",
       "      <td>17+</td>\n",
       "      <td>8.9</td>\n",
       "      <td>2200000.0</td>\n",
       "    </tr>\n",
       "    <tr>\n",
       "      <th>8</th>\n",
       "      <td>The Lord of the Rings: The Fellowship of the Ring</td>\n",
       "      <td>2001</td>\n",
       "      <td>178.0</td>\n",
       "      <td>R</td>\n",
       "      <td>8.8</td>\n",
       "      <td>2000000.0</td>\n",
       "    </tr>\n",
       "    <tr>\n",
       "      <th>9</th>\n",
       "      <td>The Good, the Bad and the Ugly</td>\n",
       "      <td>1966</td>\n",
       "      <td>161.0</td>\n",
       "      <td>D</td>\n",
       "      <td>8.8</td>\n",
       "      <td>795000.0</td>\n",
       "    </tr>\n",
       "    <tr>\n",
       "      <th>10</th>\n",
       "      <td>Forrest Gump</td>\n",
       "      <td>1994</td>\n",
       "      <td>142.0</td>\n",
       "      <td>21</td>\n",
       "      <td>8.8</td>\n",
       "      <td>2200000.0</td>\n",
       "    </tr>\n",
       "    <tr>\n",
       "      <th>11</th>\n",
       "      <td>Fight Club</td>\n",
       "      <td>1999</td>\n",
       "      <td>139.0</td>\n",
       "      <td>D17+</td>\n",
       "      <td>8.8</td>\n",
       "      <td>2300000.0</td>\n",
       "    </tr>\n",
       "    <tr>\n",
       "      <th>12</th>\n",
       "      <td>The Lord of the Rings: The Two Towers</td>\n",
       "      <td>2002</td>\n",
       "      <td>179.0</td>\n",
       "      <td>A</td>\n",
       "      <td>8.8</td>\n",
       "      <td>1700000.0</td>\n",
       "    </tr>\n",
       "    <tr>\n",
       "      <th>13</th>\n",
       "      <td>Inception</td>\n",
       "      <td>2010</td>\n",
       "      <td>148.0</td>\n",
       "      <td>D</td>\n",
       "      <td>8.8</td>\n",
       "      <td>2500000.0</td>\n",
       "    </tr>\n",
       "    <tr>\n",
       "      <th>14</th>\n",
       "      <td>Star Wars: Episode V - The Empire Strikes Back</td>\n",
       "      <td>1980</td>\n",
       "      <td>124.0</td>\n",
       "      <td>PG</td>\n",
       "      <td>8.7</td>\n",
       "      <td>1400000.0</td>\n",
       "    </tr>\n",
       "  </tbody>\n",
       "</table>\n",
       "</div>"
      ],
      "text/plain": [
       "                                                Title  Year  Duration  \\\n",
       "0                            The Shawshank Redemption  1994     142.0   \n",
       "1                                       The Godfather  1972     175.0   \n",
       "2                                     The Dark Knight  2008     152.0   \n",
       "3                              The Godfather: Part II  1974     202.0   \n",
       "4                                        12 Angry Men  1957      96.0   \n",
       "5                                    Schindler's List  1993     195.0   \n",
       "6       The Lord of the Rings: The Return of the King  2003     201.0   \n",
       "7                                        Pulp Fiction  1994     154.0   \n",
       "8   The Lord of the Rings: The Fellowship of the Ring  2001     178.0   \n",
       "9                      The Good, the Bad and the Ugly  1966     161.0   \n",
       "10                                       Forrest Gump  1994     142.0   \n",
       "11                                         Fight Club  1999     139.0   \n",
       "12              The Lord of the Rings: The Two Towers  2002     179.0   \n",
       "13                                          Inception  2010     148.0   \n",
       "14     Star Wars: Episode V - The Empire Strikes Back  1980     124.0   \n",
       "\n",
       "   Rating_Category  Ratings  Total_Votes  \n",
       "0              18+      9.3    2800000.0  \n",
       "1              18+      9.2    2000000.0  \n",
       "2                R      9.0    2800000.0  \n",
       "3              18+      9.0    1300000.0  \n",
       "4               SU      9.0     841000.0  \n",
       "5                R      9.0    1400000.0  \n",
       "6                A      9.0    1900000.0  \n",
       "7              17+      8.9    2200000.0  \n",
       "8                R      8.8    2000000.0  \n",
       "9                D      8.8     795000.0  \n",
       "10              21      8.8    2200000.0  \n",
       "11            D17+      8.8    2300000.0  \n",
       "12               A      8.8    1700000.0  \n",
       "13               D      8.8    2500000.0  \n",
       "14              PG      8.7    1400000.0  "
      ]
     },
     "execution_count": 203,
     "metadata": {},
     "output_type": "execute_result"
    }
   ],
   "source": [
    "df.head(15)"
   ]
  },
  {
   "cell_type": "markdown",
   "metadata": {},
   "source": [
    "To export the Web-Scrapping result regarding the inflation rate, we can use \"variable that contain result data\".to_csv(\"Name of file\", index=False)"
   ]
  },
  {
   "cell_type": "code",
   "execution_count": 204,
   "metadata": {},
   "outputs": [],
   "source": [
    "df.to_csv(\"IMDb Top 250 Movies Data.csv\", index=False)"
   ]
  },
  {
   "cell_type": "markdown",
   "metadata": {},
   "source": [
    "Check the Output Data"
   ]
  },
  {
   "cell_type": "code",
   "execution_count": 205,
   "metadata": {},
   "outputs": [
    {
     "data": {
      "text/html": [
       "<div>\n",
       "<style scoped>\n",
       "    .dataframe tbody tr th:only-of-type {\n",
       "        vertical-align: middle;\n",
       "    }\n",
       "\n",
       "    .dataframe tbody tr th {\n",
       "        vertical-align: top;\n",
       "    }\n",
       "\n",
       "    .dataframe thead th {\n",
       "        text-align: right;\n",
       "    }\n",
       "</style>\n",
       "<table border=\"1\" class=\"dataframe\">\n",
       "  <thead>\n",
       "    <tr style=\"text-align: right;\">\n",
       "      <th></th>\n",
       "      <th>Title</th>\n",
       "      <th>Year</th>\n",
       "      <th>Duration</th>\n",
       "      <th>Rating_Category</th>\n",
       "      <th>Ratings</th>\n",
       "      <th>Total_Votes</th>\n",
       "    </tr>\n",
       "  </thead>\n",
       "  <tbody>\n",
       "    <tr>\n",
       "      <th>0</th>\n",
       "      <td>The Shawshank Redemption</td>\n",
       "      <td>1994</td>\n",
       "      <td>142.0</td>\n",
       "      <td>18+</td>\n",
       "      <td>9.3</td>\n",
       "      <td>2800000.0</td>\n",
       "    </tr>\n",
       "    <tr>\n",
       "      <th>1</th>\n",
       "      <td>The Godfather</td>\n",
       "      <td>1972</td>\n",
       "      <td>175.0</td>\n",
       "      <td>18+</td>\n",
       "      <td>9.2</td>\n",
       "      <td>2000000.0</td>\n",
       "    </tr>\n",
       "    <tr>\n",
       "      <th>2</th>\n",
       "      <td>The Dark Knight</td>\n",
       "      <td>2008</td>\n",
       "      <td>152.0</td>\n",
       "      <td>R</td>\n",
       "      <td>9.0</td>\n",
       "      <td>2800000.0</td>\n",
       "    </tr>\n",
       "    <tr>\n",
       "      <th>3</th>\n",
       "      <td>The Godfather: Part II</td>\n",
       "      <td>1974</td>\n",
       "      <td>202.0</td>\n",
       "      <td>18+</td>\n",
       "      <td>9.0</td>\n",
       "      <td>1300000.0</td>\n",
       "    </tr>\n",
       "    <tr>\n",
       "      <th>4</th>\n",
       "      <td>12 Angry Men</td>\n",
       "      <td>1957</td>\n",
       "      <td>96.0</td>\n",
       "      <td>SU</td>\n",
       "      <td>9.0</td>\n",
       "      <td>841000.0</td>\n",
       "    </tr>\n",
       "  </tbody>\n",
       "</table>\n",
       "</div>"
      ],
      "text/plain": [
       "                      Title  Year  Duration Rating_Category  Ratings  \\\n",
       "0  The Shawshank Redemption  1994     142.0             18+      9.3   \n",
       "1             The Godfather  1972     175.0             18+      9.2   \n",
       "2           The Dark Knight  2008     152.0               R      9.0   \n",
       "3    The Godfather: Part II  1974     202.0             18+      9.0   \n",
       "4              12 Angry Men  1957      96.0              SU      9.0   \n",
       "\n",
       "   Total_Votes  \n",
       "0    2800000.0  \n",
       "1    2000000.0  \n",
       "2    2800000.0  \n",
       "3    1300000.0  \n",
       "4     841000.0  "
      ]
     },
     "execution_count": 205,
     "metadata": {},
     "output_type": "execute_result"
    }
   ],
   "source": [
    "pd.read_csv(\"IMDb Top 250 Movies Data.csv\").head()"
   ]
  }
 ],
 "metadata": {
  "kernelspec": {
   "display_name": "Python 3 (ipykernel)",
   "language": "python",
   "name": "python3"
  },
  "language_info": {
   "codemirror_mode": {
    "name": "ipython",
    "version": 3
   },
   "file_extension": ".py",
   "mimetype": "text/x-python",
   "name": "python",
   "nbconvert_exporter": "python",
   "pygments_lexer": "ipython3",
   "version": "3.9.18"
  }
 },
 "nbformat": 4,
 "nbformat_minor": 2
}
